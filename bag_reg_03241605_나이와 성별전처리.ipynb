{
 "cells": [
  {
   "cell_type": "markdown",
   "id": "451276ad",
   "metadata": {},
   "source": [
    "정규화를 진행했음. <br>\n",
    "정규화를 진행해도 차이가 발생하지 않음.\n",
    "\n",
    "테스트세트에 정규화를 진행할 때 변수명을 잘 적용했는지 생각해야함!!(이거 때문에 살짝 고생했음..) \n",
    "\n",
    "- 배깅 모델로 진행했을 때 603점 두둥"
   ]
  },
  {
   "cell_type": "code",
   "execution_count": 1,
   "id": "0ec63f58",
   "metadata": {},
   "outputs": [
    {
     "name": "stderr",
     "output_type": "stream",
     "text": [
      "/Users/yeong-gwang/anaconda3/lib/python3.11/site-packages/pandas/core/arrays/masked.py:60: UserWarning: Pandas requires version '1.3.6' or newer of 'bottleneck' (version '1.3.5' currently installed).\n",
      "  from pandas.core import (\n"
     ]
    }
   ],
   "source": [
    "import pandas as pd\n",
    "import numpy as np\n",
    "import random\n",
    "import os\n",
    "\n",
    "def seed_everything(seed):\n",
    "    random.seed(seed)\n",
    "    os.environ['PYTHONHASHSEED'] = str(seed)\n",
    "    np.random.seed(seed)\n",
    "    \n",
    "seed_everything(42) #seed 고정"
   ]
  },
  {
   "cell_type": "code",
   "execution_count": 2,
   "id": "f4c57b35",
   "metadata": {},
   "outputs": [
    {
     "data": {
      "text/html": [
       "<div>\n",
       "<style scoped>\n",
       "    .dataframe tbody tr th:only-of-type {\n",
       "        vertical-align: middle;\n",
       "    }\n",
       "\n",
       "    .dataframe tbody tr th {\n",
       "        vertical-align: top;\n",
       "    }\n",
       "\n",
       "    .dataframe thead th {\n",
       "        text-align: right;\n",
       "    }\n",
       "</style>\n",
       "<table border=\"1\" class=\"dataframe\">\n",
       "  <thead>\n",
       "    <tr style=\"text-align: right;\">\n",
       "      <th></th>\n",
       "      <th>ID</th>\n",
       "      <th>Age</th>\n",
       "      <th>Gender</th>\n",
       "      <th>Education_Status</th>\n",
       "      <th>Employment_Status</th>\n",
       "      <th>Working_Week (Yearly)</th>\n",
       "      <th>Industry_Status</th>\n",
       "      <th>Occupation_Status</th>\n",
       "      <th>Race</th>\n",
       "      <th>Hispanic_Origin</th>\n",
       "      <th>...</th>\n",
       "      <th>Citizenship</th>\n",
       "      <th>Birth_Country</th>\n",
       "      <th>Birth_Country (Father)</th>\n",
       "      <th>Birth_Country (Mother)</th>\n",
       "      <th>Tax_Status</th>\n",
       "      <th>Gains</th>\n",
       "      <th>Losses</th>\n",
       "      <th>Dividends</th>\n",
       "      <th>Income_Status</th>\n",
       "      <th>Income</th>\n",
       "    </tr>\n",
       "  </thead>\n",
       "  <tbody>\n",
       "    <tr>\n",
       "      <th>0</th>\n",
       "      <td>TRAIN_00000</td>\n",
       "      <td>63</td>\n",
       "      <td>M</td>\n",
       "      <td>Middle (7-8)</td>\n",
       "      <td>Full-Time</td>\n",
       "      <td>4</td>\n",
       "      <td>Social Services</td>\n",
       "      <td>Services</td>\n",
       "      <td>White</td>\n",
       "      <td>All other</td>\n",
       "      <td>...</td>\n",
       "      <td>Native</td>\n",
       "      <td>US</td>\n",
       "      <td>US</td>\n",
       "      <td>US</td>\n",
       "      <td>Nonfiler</td>\n",
       "      <td>0</td>\n",
       "      <td>0</td>\n",
       "      <td>0</td>\n",
       "      <td>Unknown</td>\n",
       "      <td>425</td>\n",
       "    </tr>\n",
       "    <tr>\n",
       "      <th>1</th>\n",
       "      <td>TRAIN_00001</td>\n",
       "      <td>37</td>\n",
       "      <td>M</td>\n",
       "      <td>Associates degree (Vocational)</td>\n",
       "      <td>Full-Time</td>\n",
       "      <td>52</td>\n",
       "      <td>Entertainment</td>\n",
       "      <td>Services</td>\n",
       "      <td>White</td>\n",
       "      <td>All other</td>\n",
       "      <td>...</td>\n",
       "      <td>Native</td>\n",
       "      <td>US</td>\n",
       "      <td>US</td>\n",
       "      <td>US</td>\n",
       "      <td>Single</td>\n",
       "      <td>0</td>\n",
       "      <td>0</td>\n",
       "      <td>0</td>\n",
       "      <td>Under Median</td>\n",
       "      <td>0</td>\n",
       "    </tr>\n",
       "    <tr>\n",
       "      <th>2</th>\n",
       "      <td>TRAIN_00002</td>\n",
       "      <td>58</td>\n",
       "      <td>F</td>\n",
       "      <td>High graduate</td>\n",
       "      <td>Full-Time</td>\n",
       "      <td>52</td>\n",
       "      <td>Manufacturing (Non-durable)</td>\n",
       "      <td>Admin Support (include Clerical)</td>\n",
       "      <td>Black</td>\n",
       "      <td>All other</td>\n",
       "      <td>...</td>\n",
       "      <td>Native</td>\n",
       "      <td>US</td>\n",
       "      <td>US</td>\n",
       "      <td>US</td>\n",
       "      <td>Married Filling Jointly both under 65 (MFJ)</td>\n",
       "      <td>3411</td>\n",
       "      <td>0</td>\n",
       "      <td>0</td>\n",
       "      <td>Under Median</td>\n",
       "      <td>860</td>\n",
       "    </tr>\n",
       "  </tbody>\n",
       "</table>\n",
       "<p>3 rows × 23 columns</p>\n",
       "</div>"
      ],
      "text/plain": [
       "            ID  Age Gender                Education_Status Employment_Status  \\\n",
       "0  TRAIN_00000   63      M                    Middle (7-8)         Full-Time   \n",
       "1  TRAIN_00001   37      M  Associates degree (Vocational)         Full-Time   \n",
       "2  TRAIN_00002   58      F                   High graduate         Full-Time   \n",
       "\n",
       "   Working_Week (Yearly)              Industry_Status  \\\n",
       "0                      4              Social Services   \n",
       "1                     52                Entertainment   \n",
       "2                     52  Manufacturing (Non-durable)   \n",
       "\n",
       "                  Occupation_Status   Race Hispanic_Origin  ... Citizenship  \\\n",
       "0                          Services  White       All other  ...      Native   \n",
       "1                          Services  White       All other  ...      Native   \n",
       "2  Admin Support (include Clerical)  Black       All other  ...      Native   \n",
       "\n",
       "  Birth_Country Birth_Country (Father) Birth_Country (Mother)  \\\n",
       "0            US                     US                     US   \n",
       "1            US                     US                     US   \n",
       "2            US                     US                     US   \n",
       "\n",
       "                                    Tax_Status Gains Losses Dividends  \\\n",
       "0                                     Nonfiler     0      0         0   \n",
       "1                                       Single     0      0         0   \n",
       "2  Married Filling Jointly both under 65 (MFJ)  3411      0         0   \n",
       "\n",
       "   Income_Status  Income  \n",
       "0        Unknown     425  \n",
       "1   Under Median       0  \n",
       "2   Under Median     860  \n",
       "\n",
       "[3 rows x 23 columns]"
      ]
     },
     "metadata": {},
     "output_type": "display_data"
    },
    {
     "data": {
      "text/html": [
       "<div>\n",
       "<style scoped>\n",
       "    .dataframe tbody tr th:only-of-type {\n",
       "        vertical-align: middle;\n",
       "    }\n",
       "\n",
       "    .dataframe tbody tr th {\n",
       "        vertical-align: top;\n",
       "    }\n",
       "\n",
       "    .dataframe thead th {\n",
       "        text-align: right;\n",
       "    }\n",
       "</style>\n",
       "<table border=\"1\" class=\"dataframe\">\n",
       "  <thead>\n",
       "    <tr style=\"text-align: right;\">\n",
       "      <th></th>\n",
       "      <th>ID</th>\n",
       "      <th>Age</th>\n",
       "      <th>Gender</th>\n",
       "      <th>Education_Status</th>\n",
       "      <th>Employment_Status</th>\n",
       "      <th>Working_Week (Yearly)</th>\n",
       "      <th>Industry_Status</th>\n",
       "      <th>Occupation_Status</th>\n",
       "      <th>Race</th>\n",
       "      <th>Hispanic_Origin</th>\n",
       "      <th>...</th>\n",
       "      <th>Household_Summary</th>\n",
       "      <th>Citizenship</th>\n",
       "      <th>Birth_Country</th>\n",
       "      <th>Birth_Country (Father)</th>\n",
       "      <th>Birth_Country (Mother)</th>\n",
       "      <th>Tax_Status</th>\n",
       "      <th>Gains</th>\n",
       "      <th>Losses</th>\n",
       "      <th>Dividends</th>\n",
       "      <th>Income_Status</th>\n",
       "    </tr>\n",
       "  </thead>\n",
       "  <tbody>\n",
       "    <tr>\n",
       "      <th>0</th>\n",
       "      <td>TEST_0000</td>\n",
       "      <td>79</td>\n",
       "      <td>M</td>\n",
       "      <td>High Junior</td>\n",
       "      <td>Children or Armed Forces</td>\n",
       "      <td>0</td>\n",
       "      <td>Not in universe or children</td>\n",
       "      <td>Unknown</td>\n",
       "      <td>White</td>\n",
       "      <td>All other</td>\n",
       "      <td>...</td>\n",
       "      <td>Householder</td>\n",
       "      <td>Native</td>\n",
       "      <td>US</td>\n",
       "      <td>Unknown</td>\n",
       "      <td>Unknown</td>\n",
       "      <td>Single</td>\n",
       "      <td>0</td>\n",
       "      <td>0</td>\n",
       "      <td>0</td>\n",
       "      <td>Under Median</td>\n",
       "    </tr>\n",
       "    <tr>\n",
       "      <th>1</th>\n",
       "      <td>TEST_0001</td>\n",
       "      <td>47</td>\n",
       "      <td>M</td>\n",
       "      <td>Elementary (5-6)</td>\n",
       "      <td>Children or Armed Forces</td>\n",
       "      <td>0</td>\n",
       "      <td>Not in universe or children</td>\n",
       "      <td>Unknown</td>\n",
       "      <td>White</td>\n",
       "      <td>Other Spanish</td>\n",
       "      <td>...</td>\n",
       "      <td>Child 18 or older</td>\n",
       "      <td>Native</td>\n",
       "      <td>US</td>\n",
       "      <td>US</td>\n",
       "      <td>US</td>\n",
       "      <td>Nonfiler</td>\n",
       "      <td>0</td>\n",
       "      <td>0</td>\n",
       "      <td>0</td>\n",
       "      <td>Under Median</td>\n",
       "    </tr>\n",
       "    <tr>\n",
       "      <th>2</th>\n",
       "      <td>TEST_0002</td>\n",
       "      <td>18</td>\n",
       "      <td>F</td>\n",
       "      <td>High Junior</td>\n",
       "      <td>Children or Armed Forces</td>\n",
       "      <td>52</td>\n",
       "      <td>Retail</td>\n",
       "      <td>Services</td>\n",
       "      <td>White</td>\n",
       "      <td>All other</td>\n",
       "      <td>...</td>\n",
       "      <td>Child 18 or older</td>\n",
       "      <td>Native</td>\n",
       "      <td>US</td>\n",
       "      <td>US</td>\n",
       "      <td>US</td>\n",
       "      <td>Single</td>\n",
       "      <td>0</td>\n",
       "      <td>0</td>\n",
       "      <td>0</td>\n",
       "      <td>Under Median</td>\n",
       "    </tr>\n",
       "  </tbody>\n",
       "</table>\n",
       "<p>3 rows × 22 columns</p>\n",
       "</div>"
      ],
      "text/plain": [
       "          ID  Age Gender  Education_Status         Employment_Status  \\\n",
       "0  TEST_0000   79      M       High Junior  Children or Armed Forces   \n",
       "1  TEST_0001   47      M  Elementary (5-6)  Children or Armed Forces   \n",
       "2  TEST_0002   18      F       High Junior  Children or Armed Forces   \n",
       "\n",
       "   Working_Week (Yearly)              Industry_Status Occupation_Status  \\\n",
       "0                      0  Not in universe or children           Unknown   \n",
       "1                      0  Not in universe or children           Unknown   \n",
       "2                     52                       Retail          Services   \n",
       "\n",
       "    Race Hispanic_Origin  ...  Household_Summary Citizenship Birth_Country  \\\n",
       "0  White       All other  ...        Householder      Native            US   \n",
       "1  White   Other Spanish  ...  Child 18 or older      Native            US   \n",
       "2  White       All other  ...  Child 18 or older      Native            US   \n",
       "\n",
       "  Birth_Country (Father) Birth_Country (Mother) Tax_Status Gains Losses  \\\n",
       "0                Unknown                Unknown     Single     0      0   \n",
       "1                     US                     US   Nonfiler     0      0   \n",
       "2                     US                     US     Single     0      0   \n",
       "\n",
       "   Dividends  Income_Status  \n",
       "0          0   Under Median  \n",
       "1          0   Under Median  \n",
       "2          0   Under Median  \n",
       "\n",
       "[3 rows x 22 columns]"
      ]
     },
     "metadata": {},
     "output_type": "display_data"
    }
   ],
   "source": [
    "train=pd.read_csv('train.csv')\n",
    "test=pd.read_csv('test.csv')\n",
    "\n",
    "\n",
    "display(train.head(3))\n",
    "display(test.head(3)) \n"
   ]
  },
  {
   "cell_type": "markdown",
   "id": "4c2def8d",
   "metadata": {},
   "source": [
    "# 전처리"
   ]
  },
  {
   "cell_type": "code",
   "execution_count": 3,
   "id": "2aeda4b4",
   "metadata": {},
   "outputs": [],
   "source": [
    "train['Age_Group']=np.where(train['Age']<15,'학생백수',\n",
    "                           np.where(train['Age']< 23, '일하는학생',\n",
    "                                   np.where(train['Age']<70, '사회인', '고령자')))\n",
    "\n",
    "test['Age_Group']=np.where(test['Age']<15,'학생백수',\n",
    "                           np.where(test['Age']< 23, '일하는학생',\n",
    "                                   np.where(test['Age']<70, '사회인', '고령자')))"
   ]
  },
  {
   "cell_type": "code",
   "execution_count": 4,
   "id": "11a8853f",
   "metadata": {},
   "outputs": [],
   "source": [
    "\n",
    "# train['Age_Group'] = np.where(train['Age'] < 10, '애기',\n",
    "#                                 np.where(train['Age'] < 20, '10대',\n",
    "#                                          np.where(train['Age'] < 30, '20대',\n",
    "#                                                   np.where(train['Age'] < 40, '30대',\n",
    "#                                                            np.where(train['Age'] < 50, '40대',\n",
    "#                                                                     np.where(train['Age'] < 60, '50대',\n",
    "#                                                                              np.where(train['Age'] < 70, '60대',\n",
    "#                                                                                       np.where(train['Age'] < 80, '70대', '고령자'))))))))\n",
    "\n",
    "# test['Age_Group'] = np.where(test['Age'] < 10, '애기',\n",
    "#                                 np.where(test['Age'] < 20, '10대',\n",
    "#                                          np.where(test['Age'] < 30, '20대',\n",
    "#                                                   np.where(test['Age'] < 40, '30대',\n",
    "#                                                            np.where(test['Age'] < 50, '40대',\n",
    "#                                                                     np.where(test['Age'] < 60, '50대',\n",
    "#                                                                              np.where(test['Age'] < 70, '60대',\n",
    "#                                                                                       np.where(test['Age'] < 80, '70대', '고령자'))))))))"
   ]
  },
  {
   "cell_type": "code",
   "execution_count": 5,
   "id": "c3fe7b10",
   "metadata": {},
   "outputs": [],
   "source": [
    "#age를 제거하고 범주화한 연령대변수만 살려놈\n",
    "\n",
    "train=train.drop(['Age'],axis=1)\n",
    "\n",
    "test=test.drop(['Age'],axis=1)\n"
   ]
  },
  {
   "cell_type": "markdown",
   "id": "f792e16a",
   "metadata": {},
   "source": [
    "# train과 test세트 모두 인코딩 진행"
   ]
  },
  {
   "cell_type": "markdown",
   "id": "9cc7f315",
   "metadata": {},
   "source": [
    "여전히 문자형이라서 인코딩 필요함"
   ]
  },
  {
   "cell_type": "markdown",
   "id": "5df38a35",
   "metadata": {},
   "source": [
    "# 상관관계를 비교하기 위한 인코딩_모델돌릴 때 사용노\n",
    "트레인 테스트 스플릿 진행한했음"
   ]
  },
  {
   "cell_type": "code",
   "execution_count": 6,
   "id": "7c82ac2c",
   "metadata": {},
   "outputs": [],
   "source": [
    "# from sklearn.preprocessing import LabelEncoder\n",
    "\n",
    "# encoding_target = list(train.dtypes[train.dtypes == 'object'].index)\n",
    "\n",
    "# for i in encoding_target:\n",
    "#     le = LabelEncoder()\n",
    "    \n",
    "#     #train과 test 데이터셋에서 해당 열의 모든 값을 문자열로 변환\n",
    "#     train[i]=train[i].astype(str)\n",
    "#     test[i]=test[i].astype(str)\n",
    "    \n",
    "#     le.fit(train[i])\n",
    "#     train[i] = le.transform(train[i])\n",
    "    \n",
    "#     #test 데이터의 새로운 카테고리에 대해 le.classes_ 배열에 추가 \n",
    "#     for case in np.unique(test[i]):\n",
    "#         if case not in le.classes_:\n",
    "#             le.classes_ = np.append(le.classes_, case)\n",
    "            \n",
    "#     test[i] = le.transform(test[i])\n",
    "    \n",
    "    "
   ]
  },
  {
   "cell_type": "code",
   "execution_count": 7,
   "id": "5b8f576f",
   "metadata": {},
   "outputs": [],
   "source": [
    "\n",
    "# import seaborn as sns\n",
    "# import matplotlib.pyplot as plt\n",
    "# plt.figure(figsize=(8, 6))\n",
    "# sns.heatmap(np.log(age_group_income+1).corr(), annot=True, cmap='coolwarm', fmt=\".2f\")\n",
    "# plt.show()"
   ]
  },
  {
   "cell_type": "markdown",
   "id": "ef8cb664",
   "metadata": {},
   "source": [
    "# 1\n"
   ]
  },
  {
   "cell_type": "code",
   "execution_count": 8,
   "id": "49fb75e0",
   "metadata": {},
   "outputs": [],
   "source": [
    "train_x= train.drop(columns=['ID', 'Income'])\n",
    "train_y = train['Income']\n",
    "\n",
    "test_x= test.drop(columns=['ID'])\n"
   ]
  },
  {
   "cell_type": "code",
   "execution_count": 9,
   "id": "bf1af1a9",
   "metadata": {},
   "outputs": [],
   "source": [
    "train_x = pd.get_dummies(train_x, columns=['Gender'])\n",
    "test_x = pd.get_dummies(test_x, columns=['Gender'])"
   ]
  },
  {
   "cell_type": "code",
   "execution_count": 10,
   "id": "b6715fbd",
   "metadata": {},
   "outputs": [
    {
     "data": {
      "text/plain": [
       "Index(['Education_Status', 'Employment_Status', 'Working_Week (Yearly)',\n",
       "       'Industry_Status', 'Occupation_Status', 'Race', 'Hispanic_Origin',\n",
       "       'Martial_Status', 'Household_Status', 'Household_Summary',\n",
       "       'Citizenship', 'Birth_Country', 'Birth_Country (Father)',\n",
       "       'Birth_Country (Mother)', 'Tax_Status', 'Gains', 'Losses', 'Dividends',\n",
       "       'Income_Status', 'Age_Group', 'Gender_F', 'Gender_M'],\n",
       "      dtype='object')"
      ]
     },
     "execution_count": 10,
     "metadata": {},
     "output_type": "execute_result"
    }
   ],
   "source": [
    "train_x.columns"
   ]
  },
  {
   "cell_type": "code",
   "execution_count": 11,
   "id": "cc72058f",
   "metadata": {},
   "outputs": [],
   "source": [
    "from sklearn.preprocessing import LabelEncoder\n",
    "\n",
    "encoding_target = list(train_x.dtypes[train_x.dtypes == 'object'].index)\n",
    "\n",
    "for i in encoding_target:\n",
    "    le = LabelEncoder()\n",
    "    \n",
    "    #train과 test 데이터셋에서 해당 열의 모든 값을 문자열로 변환\n",
    "    train_x[i]=train_x[i].astype(str)\n",
    "    test_x[i]=test_x[i].astype(str)\n",
    "    \n",
    "    le.fit(train_x[i])\n",
    "    train_x[i] = le.transform(train_x[i])\n",
    "    \n",
    "    #test 데이터의 새로운 카테고리에 대해 le.classes_ 배열에 추가 \n",
    "    for case in np.unique(test_x[i]):\n",
    "        if case not in le.classes_:\n",
    "            le.classes_ = np.append(le.classes_, case)\n",
    "            \n",
    "    test_x[i] = le.transform(test_x[i])\n",
    "    \n",
    "    "
   ]
  },
  {
   "cell_type": "markdown",
   "id": "a5c9d80e",
   "metadata": {},
   "source": [
    "# 정규화"
   ]
  },
  {
   "cell_type": "code",
   "execution_count": 12,
   "id": "0a63451a",
   "metadata": {},
   "outputs": [],
   "source": [
    "from sklearn.preprocessing import StandardScaler\n",
    "\n",
    "standardScaler = StandardScaler()\n",
    "standardScaler.fit(train_x)\n",
    "train_x = standardScaler.transform(train_x)\n",
    "\n",
    "#######테스트 정규화########\n",
    "\n",
    "# standardScaler.fit(test_x)\n",
    "# test_standardScaled = standardScaler.transform(test_x)"
   ]
  },
  {
   "cell_type": "code",
   "execution_count": 13,
   "id": "11b99757",
   "metadata": {},
   "outputs": [],
   "source": [
    "standardScaler.fit(test_x)\n",
    "test_x = standardScaler.transform(test_x)"
   ]
  },
  {
   "cell_type": "markdown",
   "id": "1e6913b6",
   "metadata": {},
   "source": [
    "정규화를 하면  예측값이 0으로 나옴 -> 정규화를 안하고 진행하기"
   ]
  },
  {
   "cell_type": "markdown",
   "id": "da8d8f2b",
   "metadata": {},
   "source": [
    "# train_test_split 진행"
   ]
  },
  {
   "cell_type": "code",
   "execution_count": 14,
   "id": "2a267d5f",
   "metadata": {},
   "outputs": [],
   "source": [
    "from sklearn.model_selection import train_test_split                                                     \n",
    "\n",
    "X_train, X_valid, y_train, y_valid = train_test_split(train_x, \n",
    "                                                      train_y, \n",
    "                                                      test_size=0.2, \n",
    "                                                      random_state=42)"
   ]
  },
  {
   "cell_type": "markdown",
   "id": "8ab4228a",
   "metadata": {},
   "source": [
    "# XGBOOST"
   ]
  },
  {
   "cell_type": "code",
   "execution_count": 15,
   "id": "a0d18cd6",
   "metadata": {},
   "outputs": [
    {
     "name": "stdout",
     "output_type": "stream",
     "text": [
      "XGBRegressor RMSE: 674.09\n"
     ]
    }
   ],
   "source": [
    "from xgboost import XGBRegressor\n",
    "from math import sqrt\n",
    "\n",
    "import warnings\n",
    "warnings.filterwarnings(action='ignore')\n",
    "\n",
    "xgb_reg = XGBRegressor(n_estimators=1000, random_state=0)\n",
    "xgb_reg.fit(X_train, y_train)\n",
    "\n",
    "from sklearn.metrics import mean_squared_error\n",
    "pred = xgb_reg.predict(X_valid)\n",
    "rmse = sqrt(mean_squared_error(y_valid, pred))\n",
    "print(f'XGBRegressor RMSE: {rmse:.2f}')\n"
   ]
  },
  {
   "cell_type": "markdown",
   "id": "f756d1f7",
   "metadata": {},
   "source": [
    "# LGBM"
   ]
  },
  {
   "cell_type": "code",
   "execution_count": 16,
   "id": "1692c448",
   "metadata": {},
   "outputs": [],
   "source": [
    "# from lightgbm import LGBMRegressor\n",
    "# from sklearn.metrics import mean_squared_error\n",
    "# from math import sqrt\n",
    "\n",
    "# # LGBMRegressor 모델 생성 및 학습\n",
    "# lgb_reg = LGBMRegressor(n_estimators=1000, random_state=0)\n",
    "# lgb_reg.fit(X_train, y_train)\n",
    "\n",
    "# # 예측 수행\n",
    "# pred = lgb_reg.predict(X_valid)\n",
    "\n",
    "# # RMSE 계산\n",
    "# rmse = sqrt(mean_squared_error(y_valid, pred))\n",
    "# print(f'LGBMRegressor RMSE: {rmse:.2f}')"
   ]
  },
  {
   "cell_type": "markdown",
   "id": "3ae3fa63",
   "metadata": {},
   "source": [
    "# AdaBoostRegressor"
   ]
  },
  {
   "cell_type": "code",
   "execution_count": 17,
   "id": "e036642d",
   "metadata": {},
   "outputs": [
    {
     "name": "stdout",
     "output_type": "stream",
     "text": [
      "AdaBoostRegressor RMSE: 755.37\n"
     ]
    }
   ],
   "source": [
    "from sklearn.ensemble import AdaBoostRegressor\n",
    "from sklearn.metrics import mean_squared_error\n",
    "from math import sqrt\n",
    "\n",
    "# AdaBoostRegressor 모델 생성 및 학습\n",
    "ab_reg = AdaBoostRegressor(random_state=0, n_estimators=100)\n",
    "ab_reg.fit(X_train, y_train)\n",
    "\n",
    "# 검증 데이터셋에 대한 예측 수행\n",
    "pred = ab_reg.predict(X_valid)\n",
    "\n",
    "# RMSE 계산\n",
    "rmse = sqrt(mean_squared_error(y_valid, pred))\n",
    "print(f'AdaBoostRegressor RMSE: {rmse:.2f}')"
   ]
  },
  {
   "cell_type": "markdown",
   "id": "0a2c5644",
   "metadata": {},
   "source": [
    "# SVR\n",
    "\n",
    "https://data-workspace.tistory.com/33"
   ]
  },
  {
   "cell_type": "code",
   "execution_count": 18,
   "id": "2a4c320c",
   "metadata": {},
   "outputs": [],
   "source": [
    "# from sklearn.svm import SVR\n",
    "# from sklearn.metrics import mean_squared_error\n",
    "# from math import sqrt\n",
    "\n",
    "# # SVR 모델 생성 및 학습\n",
    "# svm_reg = SVR(kernel=\"linear\")\n",
    "# svm_reg.fit(X_train, y_train)\n",
    "\n",
    "# # 검증 데이터셋에 대한 예측 수행\n",
    "# pred = svm_reg.predict(X_valid)\n",
    "\n",
    "# # RMSE 계산\n",
    "# rmse = sqrt(mean_squared_error(y_valid, pred))\n",
    "# print(f'Support Vector Machine Regression RMSE: {rmse:.2f}')\n"
   ]
  },
  {
   "cell_type": "markdown",
   "id": "80b7ab72",
   "metadata": {},
   "source": [
    "# Ridge"
   ]
  },
  {
   "cell_type": "code",
   "execution_count": 19,
   "id": "2cd3a015",
   "metadata": {},
   "outputs": [
    {
     "name": "stdout",
     "output_type": "stream",
     "text": [
      "Ridge Regression RMSE: 623.62\n"
     ]
    }
   ],
   "source": [
    "from sklearn.linear_model import Ridge\n",
    "from sklearn.metrics import mean_squared_error\n",
    "from math import sqrt\n",
    "\n",
    "# Ridge 회귀 모델 생성 및 학습\n",
    "rd_reg = Ridge(random_state=0)\n",
    "rd_reg.fit(X_train, y_train)\n",
    "\n",
    "# 검증 데이터셋에 대한 예측 수행\n",
    "pred = rd_reg.predict(X_valid)\n",
    "\n",
    "# RMSE 계산\n",
    "rmse = sqrt(mean_squared_error(y_valid, pred))\n",
    "print(f'Ridge Regression RMSE: {rmse:.2f}')\n"
   ]
  },
  {
   "cell_type": "markdown",
   "id": "0c1d9e46",
   "metadata": {},
   "source": [
    "# BaggingRegressor"
   ]
  },
  {
   "cell_type": "code",
   "execution_count": 20,
   "id": "29080e83",
   "metadata": {},
   "outputs": [
    {
     "name": "stdout",
     "output_type": "stream",
     "text": [
      "BaggingRegressor RMSE: 651.99\n"
     ]
    }
   ],
   "source": [
    "from sklearn.ensemble import BaggingRegressor\n",
    "from sklearn.metrics import mean_squared_error\n",
    "from math import sqrt\n",
    "\n",
    "# BaggingRegressor 모델 생성 및 학습\n",
    "bg_reg = BaggingRegressor(random_state=0)\n",
    "bg_reg.fit(X_train, y_train)\n",
    "\n",
    "# 검증 데이터셋에 대한 예측 수행\n",
    "pred = bg_reg.predict(X_valid)\n",
    "\n",
    "# RMSE 계산\n",
    "rmse = sqrt(mean_squared_error(y_valid, pred))\n",
    "print(f'BaggingRegressor RMSE: {rmse:.2f}')\n"
   ]
  },
  {
   "cell_type": "markdown",
   "id": "4c538a6b",
   "metadata": {},
   "source": [
    "# DecisionTreeRegressor"
   ]
  },
  {
   "cell_type": "code",
   "execution_count": 21,
   "id": "769254f9",
   "metadata": {},
   "outputs": [
    {
     "name": "stdout",
     "output_type": "stream",
     "text": [
      "DecisionTreeRegressor RMSE: 800.72\n"
     ]
    }
   ],
   "source": [
    "from sklearn.tree import DecisionTreeRegressor\n",
    "from sklearn.metrics import mean_squared_error\n",
    "from math import sqrt\n",
    "\n",
    "# DecisionTreeRegressor 모델 생성 및 학습\n",
    "dt_reg = DecisionTreeRegressor(random_state=0)\n",
    "dt_reg.fit(X_train, y_train)\n",
    "\n",
    "# 검증 데이터셋에 대한 예측 수행\n",
    "pred = dt_reg.predict(X_valid)\n",
    "\n",
    "# RMSE 계산\n",
    "rmse = sqrt(mean_squared_error(y_valid, pred))\n",
    "print(f'DecisionTreeRegressor RMSE: {rmse:.2f}')\n"
   ]
  },
  {
   "cell_type": "code",
   "execution_count": 22,
   "id": "985a67f3",
   "metadata": {},
   "outputs": [
    {
     "name": "stdout",
     "output_type": "stream",
     "text": [
      "XGBRegressor RMSE: 674.09\n",
      "AdaBoostRegressor RMSE: 755.37\n",
      "Ridge RMSE: 623.62\n",
      "BaggingRegressor RMSE: 651.99\n",
      "DecisionTreeRegressor RMSE: 800.72\n"
     ]
    }
   ],
   "source": [
    "from sklearn.metrics import mean_squared_error\n",
    "from math import sqrt\n",
    "\n",
    "# 모델 리스트 생성 (이전에 정의된 회귀 모델들)\n",
    "model_lst = [xgb_reg, ab_reg, rd_reg, bg_reg, dt_reg]\n",
    "\n",
    "# 각 모델에 대한 RMSE 계산 및 출력\n",
    "for model in model_lst:\n",
    "    pred = model.predict(X_valid)  # 검증 데이터셋에 대한 예측 수행\n",
    "    rmse = sqrt(mean_squared_error(y_valid, pred))  # RMSE 계산\n",
    "    class_name = model.__class__.__name__  # 모델 클래스 이름\n",
    "    print(f'{class_name} RMSE: {rmse:.2f}')\n"
   ]
  },
  {
   "cell_type": "markdown",
   "id": "a31c2cc3",
   "metadata": {},
   "source": [
    "# 모델 예측"
   ]
  },
  {
   "cell_type": "code",
   "execution_count": 23,
   "id": "5ecb2e0c",
   "metadata": {},
   "outputs": [],
   "source": [
    "preds = bg_reg.predict(test_x)"
   ]
  },
  {
   "cell_type": "code",
   "execution_count": 24,
   "id": "545759de",
   "metadata": {},
   "outputs": [
    {
     "data": {
      "text/plain": [
       "array([  0. ,   0. , 611. , ..., 427.5,   0. , 662. ])"
      ]
     },
     "execution_count": 24,
     "metadata": {},
     "output_type": "execute_result"
    }
   ],
   "source": [
    "preds"
   ]
  },
  {
   "cell_type": "code",
   "execution_count": 25,
   "id": "46931c21",
   "metadata": {},
   "outputs": [
    {
     "data": {
      "text/html": [
       "<div>\n",
       "<style scoped>\n",
       "    .dataframe tbody tr th:only-of-type {\n",
       "        vertical-align: middle;\n",
       "    }\n",
       "\n",
       "    .dataframe tbody tr th {\n",
       "        vertical-align: top;\n",
       "    }\n",
       "\n",
       "    .dataframe thead th {\n",
       "        text-align: right;\n",
       "    }\n",
       "</style>\n",
       "<table border=\"1\" class=\"dataframe\">\n",
       "  <thead>\n",
       "    <tr style=\"text-align: right;\">\n",
       "      <th></th>\n",
       "      <th>ID</th>\n",
       "      <th>Income</th>\n",
       "    </tr>\n",
       "  </thead>\n",
       "  <tbody>\n",
       "    <tr>\n",
       "      <th>0</th>\n",
       "      <td>TEST_0000</td>\n",
       "      <td>0.0</td>\n",
       "    </tr>\n",
       "    <tr>\n",
       "      <th>1</th>\n",
       "      <td>TEST_0001</td>\n",
       "      <td>0.0</td>\n",
       "    </tr>\n",
       "    <tr>\n",
       "      <th>2</th>\n",
       "      <td>TEST_0002</td>\n",
       "      <td>611.0</td>\n",
       "    </tr>\n",
       "    <tr>\n",
       "      <th>3</th>\n",
       "      <td>TEST_0003</td>\n",
       "      <td>555.5</td>\n",
       "    </tr>\n",
       "    <tr>\n",
       "      <th>4</th>\n",
       "      <td>TEST_0004</td>\n",
       "      <td>0.0</td>\n",
       "    </tr>\n",
       "    <tr>\n",
       "      <th>...</th>\n",
       "      <td>...</td>\n",
       "      <td>...</td>\n",
       "    </tr>\n",
       "    <tr>\n",
       "      <th>9995</th>\n",
       "      <td>TEST_9995</td>\n",
       "      <td>549.3</td>\n",
       "    </tr>\n",
       "    <tr>\n",
       "      <th>9996</th>\n",
       "      <td>TEST_9996</td>\n",
       "      <td>644.9</td>\n",
       "    </tr>\n",
       "    <tr>\n",
       "      <th>9997</th>\n",
       "      <td>TEST_9997</td>\n",
       "      <td>427.5</td>\n",
       "    </tr>\n",
       "    <tr>\n",
       "      <th>9998</th>\n",
       "      <td>TEST_9998</td>\n",
       "      <td>0.0</td>\n",
       "    </tr>\n",
       "    <tr>\n",
       "      <th>9999</th>\n",
       "      <td>TEST_9999</td>\n",
       "      <td>662.0</td>\n",
       "    </tr>\n",
       "  </tbody>\n",
       "</table>\n",
       "<p>10000 rows × 2 columns</p>\n",
       "</div>"
      ],
      "text/plain": [
       "             ID  Income\n",
       "0     TEST_0000     0.0\n",
       "1     TEST_0001     0.0\n",
       "2     TEST_0002   611.0\n",
       "3     TEST_0003   555.5\n",
       "4     TEST_0004     0.0\n",
       "...         ...     ...\n",
       "9995  TEST_9995   549.3\n",
       "9996  TEST_9996   644.9\n",
       "9997  TEST_9997   427.5\n",
       "9998  TEST_9998     0.0\n",
       "9999  TEST_9999   662.0\n",
       "\n",
       "[10000 rows x 2 columns]"
      ]
     },
     "execution_count": 25,
     "metadata": {},
     "output_type": "execute_result"
    }
   ],
   "source": [
    "submission = pd.read_csv(\"sample_submission.csv\")\n",
    "submission['Income']=preds\n",
    "submission"
   ]
  },
  {
   "cell_type": "code",
   "execution_count": 26,
   "id": "ca66e3e3",
   "metadata": {},
   "outputs": [],
   "source": [
    "submission.to_csv('bg_reg_submission.csv',index = False)"
   ]
  },
  {
   "cell_type": "code",
   "execution_count": null,
   "id": "56fd6bbe",
   "metadata": {},
   "outputs": [],
   "source": []
  }
 ],
 "metadata": {
  "kernelspec": {
   "display_name": "Python 3 (ipykernel)",
   "language": "python",
   "name": "python3"
  },
  "language_info": {
   "codemirror_mode": {
    "name": "ipython",
    "version": 3
   },
   "file_extension": ".py",
   "mimetype": "text/x-python",
   "name": "python",
   "nbconvert_exporter": "python",
   "pygments_lexer": "ipython3",
   "version": "3.11.4"
  },
  "toc": {
   "base_numbering": 1,
   "nav_menu": {},
   "number_sections": true,
   "sideBar": true,
   "skip_h1_title": false,
   "title_cell": "Table of Contents",
   "title_sidebar": "Contents",
   "toc_cell": false,
   "toc_position": {},
   "toc_section_display": true,
   "toc_window_display": false
  }
 },
 "nbformat": 4,
 "nbformat_minor": 5
}
